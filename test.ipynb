{
 "cells": [
  {
   "cell_type": "code",
   "execution_count": 12,
   "metadata": {},
   "outputs": [
    {
     "name": "stdout",
     "output_type": "stream",
     "text": [
      "API Response: {'reflection': '考虑到原论文名可能较为具体或独特，直接搜索可能难以找到广泛的相关文献。因此，我选择从公司名、业务领域和行业影响三个角度出发，提炼出更简短的搜索文本，以便更广泛地覆盖相关研究。', 'results': ['字节跳动', '短视频平台', '互联网企业']}\n"
     ]
    }
   ],
   "source": [
    "from langchain_openai import ChatOpenAI\n",
    "from langchain_core.prompts import ChatPromptTemplate\n",
    "from langchain_core.output_parsers import JsonOutputParser\n",
    "import os\n",
    "ZHIPU_API_KEY = \"9e4c16ce4198e71ae9664f27c1804c85.5Zo8Ak5NmfQjVkoM\"\n",
    "ZHIPU_BASE_URL = \"https://open.bigmodel.cn/api/paas/v4/\"\n",
    "kwargs = {'title': '字节跳动'}\n",
    "template = \"你是一个搜索助手，帮助用户搜索文献。用户给出了一篇他想写的论文名，他想找到相关的文章。由于使用原文章名进行搜索可能无法找到足够的相关文献，因些你需要围绕这篇文章的几个方面给出三个搜索文本，这三个搜索文本要更简短。.输出格式json，json schema 如下 properties: `reflection: [type:str, descreption: your thought about this problem], results: [type: array, descreption: short form for tittle to search, items: type is str, minitems:3, maxitems:3]`: {title}\"\n",
    "model = ChatOpenAI(model=\"glm-4-plus\", temperature=0.5, api_key=ZHIPU_API_KEY, base_url=ZHIPU_BASE_URL)\n",
    "query_prompt = ChatPromptTemplate.from_messages([ \n",
    "    ('human', template)\n",
    "])\n",
    "query_chain = query_prompt | model | JsonOutputParser()\n",
    "res = query_chain.invoke({'title': '字节跳动'})\n",
    "print(f\"API Response: {res}\")"
   ]
  },
  {
   "cell_type": "code",
   "execution_count": null,
   "metadata": {},
   "outputs": [],
   "source": []
  }
 ],
 "metadata": {
  "kernelspec": {
   "display_name": "langchain",
   "language": "python",
   "name": "python3"
  },
  "language_info": {
   "codemirror_mode": {
    "name": "ipython",
    "version": 3
   },
   "file_extension": ".py",
   "mimetype": "text/x-python",
   "name": "python",
   "nbconvert_exporter": "python",
   "pygments_lexer": "ipython3",
   "version": "3.10.13"
  }
 },
 "nbformat": 4,
 "nbformat_minor": 2
}
